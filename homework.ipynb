{
 "cells": [
  {
   "cell_type": "code",
   "execution_count": 2,
   "metadata": {},
   "outputs": [],
   "source": [
    "from math import factorial as f\n",
    "import pandas as pd"
   ]
  },
  {
   "cell_type": "code",
   "execution_count": 3,
   "metadata": {},
   "outputs": [],
   "source": [
    "def my_pmf(k, n, p):\n",
    "    n1 = f(n)\n",
    "    l = f(n - k)        \n",
    "    p1 = p ** k\n",
    "    q = 1 - p\n",
    "    q1 = q ** (n - k)\n",
    "    l1 = l * f(k)\n",
    "    l2 = n1 / l1 \n",
    "    return l2 * p1 * q1"
   ]
  },
  {
   "cell_type": "code",
   "execution_count": 4,
   "metadata": {},
   "outputs": [],
   "source": [
    "def my_cdf(k, n, p):\n",
    "    summ = 0\n",
    "    n1 = f(n)\n",
    "    q = 1 - p\n",
    "    for i in range(k + 1):\n",
    "        l = f(n - i) \n",
    "        l1 = l * f(i)\n",
    "        res = n1/l1 \n",
    "        p1 = p ** i\n",
    "        q1 = q ** (n - i)\n",
    "        result = res * p1 * q1\n",
    "        summ += result\n",
    "        \n",
    "    return summ"
   ]
  },
  {
   "cell_type": "code",
   "execution_count": 5,
   "metadata": {},
   "outputs": [],
   "source": [
    "def my_sf(k, n, p):\n",
    "    return 1 - my_cdf(k, n, p)"
   ]
  },
  {
   "cell_type": "code",
   "execution_count": 6,
   "metadata": {},
   "outputs": [],
   "source": [
    "def my_rvs(n, p, size):\n",
    "    summ = []\n",
    "    for i in range(size):\n",
    "        res = bernoulli.rvs(p, size=n)\n",
    "        summ.append(sum(res))\n",
    "        \n",
    "    return summ"
   ]
  },
  {
   "cell_type": "code",
   "execution_count": 7,
   "metadata": {},
   "outputs": [],
   "source": [
    "def my_expacted_value(x):\n",
    "    p = len(x) ** - 1\n",
    "    summ = 0\n",
    "    for i in x:\n",
    "        summ += i * p\n",
    "    return summ"
   ]
  },
  {
   "cell_type": "code",
   "execution_count": 8,
   "metadata": {},
   "outputs": [],
   "source": [
    "def my_mean(x):\n",
    "    return sum(x)/len(x)"
   ]
  },
  {
   "cell_type": "code",
   "execution_count": 9,
   "metadata": {},
   "outputs": [],
   "source": [
    "def my_variance(x):\n",
    "    return sum([(xi - my_mean(x))**2 for xi in x]) / (len(x) -1)"
   ]
  },
  {
   "cell_type": "code",
   "execution_count": 10,
   "metadata": {},
   "outputs": [],
   "source": [
    "def my_stats(n, p):\n",
    "    summ = []\n",
    "    summ.append(my_expacted_value([i for i in range(1, n + 1)]))\n",
    "    summ.append(my_variance([i for i in range(1, n + 1)]))\n",
    "    return summ"
   ]
  },
  {
   "cell_type": "code",
   "execution_count": 11,
   "metadata": {},
   "outputs": [],
   "source": [
    "def my_median(x):\n",
    "    sorted(x)\n",
    "    if len(x) % 2 != 0:\n",
    "        median = x[len(x)//2]\n",
    "    else:\n",
    "        med1 = x[len(x)//2]\n",
    "        med2= x[len(x)//2 - 1]\n",
    "        median = (med1 + med2)/2\n",
    "    return median"
   ]
  },
  {
   "cell_type": "code",
   "execution_count": 12,
   "metadata": {},
   "outputs": [],
   "source": [
    "def calculate(p):\n",
    "    return my_rvs(n=150, p=p, size=1)"
   ]
  },
  {
   "cell_type": "code",
   "execution_count": 16,
   "metadata": {},
   "outputs": [],
   "source": [
    "data = pd.read_excel('probability_data.xlsx')"
   ]
  },
  {
   "cell_type": "code",
   "execution_count": 24,
   "metadata": {},
   "outputs": [],
   "source": [
    "numbers = list(data['number'])"
   ]
  },
  {
   "cell_type": "code",
   "execution_count": null,
   "metadata": {},
   "outputs": [],
   "source": [
    "var = my_variance(numbers)\n",
    "mean = my_mean(numbers)\n",
    "print('variance is', var, 'mean is', mean)"
   ]
  },
  {
   "cell_type": "code",
   "execution_count": null,
   "metadata": {},
   "outputs": [],
   "source": []
  }
 ],
 "metadata": {
  "kernelspec": {
   "display_name": "Python 3",
   "language": "python",
   "name": "python3"
  },
  "language_info": {
   "codemirror_mode": {
    "name": "ipython",
    "version": 3
   },
   "file_extension": ".py",
   "mimetype": "text/x-python",
   "name": "python",
   "nbconvert_exporter": "python",
   "pygments_lexer": "ipython3",
   "version": "3.7.6"
  }
 },
 "nbformat": 4,
 "nbformat_minor": 4
}
